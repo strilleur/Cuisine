{
 "cells": [
  {
   "cell_type": "code",
   "execution_count": 4,
   "id": "f3c20ed0",
   "metadata": {},
   "outputs": [
    {
     "name": "stdout",
     "output_type": "stream",
     "text": [
      "Ingrédients identifiés avec spaCy (avancé) : ['g', 'glucides', 'g', 'portion', 'persil', 'persil', 'frise', 'g', 'carottes', 'g', 'poivrons', 'légumes', 'g', 'rave', 'mixer', 'g', 'LA', 'assaisonnement', 'rave', 'SAUCE', 'thon', 'page', 'Poivrons', 'surprise', 'j', 'momie', 'portion', 'g', 'glucides', 'g']\n"
     ]
    }
   ],
   "source": [
    "#!pip install spacy\n",
    "#!python -m spacy download fr_core_news_sm\n",
    "\n",
    "import spacy\n",
    "\n",
    "def load_ingredient_whitelist(file_path):\n",
    "    with open(file_path, 'r', encoding='utf-8') as file:\n",
    "        return [line.strip().lower() for line in file]\n",
    "\n",
    "def extract_ingredients_spacy_advanced(text, ingredient_whitelist):\n",
    "    # Charger le modèle spaCy en français\n",
    "    nlp = spacy.load(\"fr_core_news_sm\")\n",
    "    \n",
    "    # Analyser le texte\n",
    "    doc = nlp(text)\n",
    "    \n",
    "    # Filtrer les entités nommées qui sont des noms communs et dans la liste blanche\n",
    "    ingredients = [token.text for token in doc if token.pos_ == 'NOUN' and token.text.lower() in ingredient_whitelist and token.text.lower() not in ['minute', 'minutes']]\n",
    "    \n",
    "    return ingredients\n",
    "\n",
    "# Charger la liste blanche depuis un fichier\n",
    "ingredient_whitelist = load_ingredient_whitelist('listeingredient1.txt')\n",
    "\n",
    "# Exemple d'utilisation\n",
    "text_example = \"crudités È Temps de préparation : 10 mn + Thermomix : 25 sec 108 + cal : 170 + protèges : 4 g * glucides : 10 g + limpide Valeur nutritionnelle pas portion > km : le a a à brins de persil + Mettre le persil dans le bol et frise 200 g de carottes Réserver dans un récipient | % 150 g de poivrons + éplucher les légumes les coupe 200 g de céleri-rave d'environ 4 cm de long et les mixer de 300 g de choux rouge où blanc avec la spatule é | . | - Carottes : 5 sec à vitesse 5 LA / de / 2 sur 71 : | Chou : 3 à 5 sec à vitesse 5 uses les ingrédients de votre assaisonnement dans le bol avec fumes pour Ur renarauon Den parfumée Céleri-rave : 5 à 10 sec à vitesse i ANDAENIEZ les C'UOMES QE 13 SAUCE au thon page 36). Poivrons : 3 sec à vitesse 5 Cake surprise The : j a momie : 50 sec + Cuisson au four:lh eur nutritionnelle Par portion de kit 17° | a limites : Ki 11779 + cal : 428 + protèges : 17 g * glucides : 23 g * Pie a\"\n",
    "\n",
    "ingredients_list_spacy_advanced = extract_ingredients_spacy_advanced(text_example, ingredient_whitelist)\n",
    "print(\"Ingrédients identifiés avec spaCy (avancé) :\", ingredients_list_spacy_advanced)\n"
   ]
  },
  {
   "cell_type": "code",
   "execution_count": null,
   "id": "13602aab",
   "metadata": {
    "scrolled": false
   },
   "outputs": [],
   "source": []
  }
 ],
 "metadata": {
  "kernelspec": {
   "display_name": "Python 3 (ipykernel)",
   "language": "python",
   "name": "python3"
  },
  "language_info": {
   "codemirror_mode": {
    "name": "ipython",
    "version": 3
   },
   "file_extension": ".py",
   "mimetype": "text/x-python",
   "name": "python",
   "nbconvert_exporter": "python",
   "pygments_lexer": "ipython3",
   "version": "3.10.9"
  }
 },
 "nbformat": 4,
 "nbformat_minor": 5
}
